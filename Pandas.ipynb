{
  "nbformat": 4,
  "nbformat_minor": 0,
  "metadata": {
    "colab": {
      "name": "Pandas.ipynb",
      "provenance": [],
      "authorship_tag": "ABX9TyNAe3ynIfLwm5PhZ2LQvZgy",
      "include_colab_link": true
    },
    "kernelspec": {
      "name": "python3",
      "display_name": "Python 3"
    },
    "language_info": {
      "name": "python"
    }
  },
  "cells": [
    {
      "cell_type": "markdown",
      "metadata": {
        "id": "view-in-github",
        "colab_type": "text"
      },
      "source": [
        "<a href=\"https://colab.research.google.com/github/armying/armying/blob/main/Pandas.ipynb\" target=\"_parent\"><img src=\"https://colab.research.google.com/assets/colab-badge.svg\" alt=\"Open In Colab\"/></a>"
      ]
    },
    {
      "cell_type": "code",
      "metadata": {
        "id": "JTQAPl1dn6wl"
      },
      "source": [
        ""
      ],
      "execution_count": null,
      "outputs": []
    },
    {
      "cell_type": "markdown",
      "metadata": {
        "id": "KvASGG2En7y9"
      },
      "source": [
        "# Read data from csv using pandas\n"
      ]
    },
    {
      "cell_type": "code",
      "metadata": {
        "id": "JRZDTNGAo3Xh"
      },
      "source": [
        "import pandas as pd"
      ],
      "execution_count": 1,
      "outputs": []
    },
    {
      "cell_type": "code",
      "metadata": {
        "id": "UDtQ6NlJo6Em"
      },
      "source": [
        "df = pd.read_csv('salaries_by_college_major.csv')"
      ],
      "execution_count": 3,
      "outputs": []
    },
    {
      "cell_type": "code",
      "metadata": {
        "id": "9j7qAK2mo_jh"
      },
      "source": [
        "# get the top 5 entries in the dataframe\n",
        "df.head()"
      ],
      "execution_count": null,
      "outputs": []
    },
    {
      "cell_type": "code",
      "metadata": {
        "id": "J68LoTvSpFM9"
      },
      "source": [
        "# get the dimension of the dataframe\n",
        "df.shape"
      ],
      "execution_count": null,
      "outputs": []
    },
    {
      "cell_type": "code",
      "metadata": {
        "id": "FwP9iGOJpI8p"
      },
      "source": [
        "# get the name of the columns in the dataframe\n",
        "df.columns"
      ],
      "execution_count": null,
      "outputs": []
    },
    {
      "cell_type": "code",
      "metadata": {
        "id": "mj3l7lDipz1W"
      },
      "source": [
        "# check if the dataframe has any NaN values(missing/junk values)\n",
        "df.isna()"
      ],
      "execution_count": null,
      "outputs": []
    },
    {
      "cell_type": "code",
      "metadata": {
        "id": "fZyWZL1PqFJX"
      },
      "source": [
        "# print the last 5 entries in the dataframe\n",
        "df.tail()"
      ],
      "execution_count": null,
      "outputs": []
    },
    {
      "cell_type": "code",
      "metadata": {
        "id": "rbWOhD9TqNLl"
      },
      "source": [
        "# remove the rows with NaN entries using .dropna()\n",
        "clean_df = df.dropna()"
      ],
      "execution_count": 12,
      "outputs": []
    },
    {
      "cell_type": "code",
      "metadata": {
        "id": "8q0dV72qrNQs"
      },
      "source": [
        "# print all the rows in the column \"Starting Median Salary\"\n",
        "clean_df['Starting Median Salary']"
      ],
      "execution_count": null,
      "outputs": []
    },
    {
      "cell_type": "code",
      "metadata": {
        "colab": {
          "base_uri": "https://localhost:8080/"
        },
        "id": "qhTTTAKDrQ4Q",
        "outputId": "c528f4f6-cd56-4a8e-a89f-b083f0f569ae"
      },
      "source": [
        "# Find the row with max value for \"starting median salary\" column\n",
        "clean_df['Starting Median Salary'].max()"
      ],
      "execution_count": 18,
      "outputs": [
        {
          "output_type": "execute_result",
          "data": {
            "text/plain": [
              "74300.0"
            ]
          },
          "metadata": {},
          "execution_count": 18
        }
      ]
    },
    {
      "cell_type": "code",
      "metadata": {
        "colab": {
          "base_uri": "https://localhost:8080/"
        },
        "id": "feK1_saYrcKf",
        "outputId": "ed70e3e7-10e5-44b2-a1d3-ae0d345495ae"
      },
      "source": [
        "# Find the row with the highest starting median salary and return its id\n",
        "clean_df['Starting Median Salary'].idxmax()"
      ],
      "execution_count": 20,
      "outputs": [
        {
          "output_type": "execute_result",
          "data": {
            "text/plain": [
              "43"
            ]
          },
          "metadata": {},
          "execution_count": 20
        }
      ]
    },
    {
      "cell_type": "code",
      "metadata": {
        "colab": {
          "base_uri": "https://localhost:8080/",
          "height": 35
        },
        "id": "zBm3D_9PsAWD",
        "outputId": "a3dd5823-9967-4362-a558-6766fbdc3ede"
      },
      "source": [
        "# Access the cell in the \"Undergraduate Major\" column on the 43th row\n",
        "clean_df['Undergraduate Major'].loc[43]"
      ],
      "execution_count": 24,
      "outputs": [
        {
          "output_type": "execute_result",
          "data": {
            "application/vnd.google.colaboratory.intrinsic+json": {
              "type": "string"
            },
            "text/plain": [
              "'Physician Assistant'"
            ]
          },
          "metadata": {},
          "execution_count": 24
        }
      ]
    },
    {
      "cell_type": "code",
      "metadata": {
        "colab": {
          "base_uri": "https://localhost:8080/",
          "height": 35
        },
        "id": "db1Ci09HsNZc",
        "outputId": "45037227-fbf7-465c-8624-4fe6be0d7b2b"
      },
      "source": [
        "# Find the major with the highest startnig median salary\n",
        "clean_df['Undergraduate Major'].loc[clean_df['Starting Median Salary'].idxmax()]"
      ],
      "execution_count": 25,
      "outputs": [
        {
          "output_type": "execute_result",
          "data": {
            "application/vnd.google.colaboratory.intrinsic+json": {
              "type": "string"
            },
            "text/plain": [
              "'Physician Assistant'"
            ]
          },
          "metadata": {},
          "execution_count": 25
        }
      ]
    },
    {
      "cell_type": "code",
      "metadata": {
        "colab": {
          "base_uri": "https://localhost:8080/"
        },
        "id": "w2G-6n5tsqvv",
        "outputId": "97dfdfe7-f7f6-4468-fa4c-417c88e2c63d"
      },
      "source": [
        "# Find the 10th percentile salary for major computer science\n",
        "clean_df['Mid-Career 10th Percentile Salary'].loc[clean_df['Undergraduate Major'] == 'Computer Science']"
      ],
      "execution_count": 27,
      "outputs": [
        {
          "output_type": "execute_result",
          "data": {
            "text/plain": [
              "13    56000.0\n",
              "Name: Mid-Career 10th Percentile Salary, dtype: float64"
            ]
          },
          "metadata": {},
          "execution_count": 27
        }
      ]
    },
    {
      "cell_type": "code",
      "metadata": {
        "colab": {
          "base_uri": "https://localhost:8080/"
        },
        "id": "FAQurb6xtA7t",
        "outputId": "de4e2da7-92b0-4bd8-e145-ad6b61b043ab"
      },
      "source": [
        "# Find the undergraduate degree with highest starting salary\n",
        "highest_paying_degree = clean_df['Undergraduate Major'].loc[clean_df['Starting Median Salary'].idxmax()]\n",
        "print(highest_paying_degree)"
      ],
      "execution_count": 29,
      "outputs": [
        {
          "output_type": "stream",
          "name": "stdout",
          "text": [
            "Physician Assistant\n"
          ]
        }
      ]
    },
    {
      "cell_type": "code",
      "metadata": {
        "colab": {
          "base_uri": "https://localhost:8080/",
          "height": 35
        },
        "id": "yyedyrHqvXnk",
        "outputId": "77cfc724-841f-462f-e875-b0ce154f0ad5"
      },
      "source": [
        "# Find the college degree with highest median mid-career salary\n",
        "clean_df['Undergraduate Major'].loc[clean_df['Mid-Career Median Salary'].idxmax()]"
      ],
      "execution_count": 32,
      "outputs": [
        {
          "output_type": "execute_result",
          "data": {
            "application/vnd.google.colaboratory.intrinsic+json": {
              "type": "string"
            },
            "text/plain": [
              "'Chemical Engineering'"
            ]
          },
          "metadata": {},
          "execution_count": 32
        }
      ]
    },
    {
      "cell_type": "code",
      "metadata": {
        "colab": {
          "base_uri": "https://localhost:8080/"
        },
        "id": "T2VbUoYKvi3q",
        "outputId": "c3b89a90-d9d8-4e4d-f282-f08990401669"
      },
      "source": [
        "# Find the college degree with the lowest Starting Salary and how much they make initially\n",
        "clean_df['Starting Median Salary'].idxmin()\n",
        "lowest_salary_degree = clean_df['Undergraduate Major'].loc[clean_df['Starting Median Salary'].idxmin()]\n",
        "lowest_salary = clean_df['Starting Median Salary'].min()\n",
        "print(f\"The lowest earning degree after college is {lowest_salary_degree} and they make ${lowest_salary}\")"
      ],
      "execution_count": 37,
      "outputs": [
        {
          "output_type": "stream",
          "name": "stdout",
          "text": [
            "The lowest earning degree after college is Spanish and they make $34000.0\n"
          ]
        }
      ]
    },
    {
      "cell_type": "code",
      "metadata": {
        "id": "3FzC1bDEwQW7"
      },
      "source": [
        "# Find the college major with the lowst MID career salary and how much they are expected to make\n",
        "lowest_earning_midcareer_degree = clean_df['Undergraduate Major'].loc[clean_df['Mid-Career Median Salary'].idxmin()]\n",
        "lowest_salary_midcareer = clean_df['Mid-Career Median Salary'].min()\n",
        "print(f\"The lowest earining major during mid career is {lowest_earning_midcareer_degree} and they make ${lowest_salary_midcareer}\")"
      ],
      "execution_count": null,
      "outputs": []
    },
    {
      "cell_type": "code",
      "metadata": {
        "colab": {
          "base_uri": "https://localhost:8080/"
        },
        "id": "XwCVdVxy645f",
        "outputId": "9ac18015-3009-4138-cfe7-02a0596dc1c9"
      },
      "source": [
        "# Find the risk of each major by finding the difference between the 90th percentile and 10th percentile salary\n",
        "# Pandas allow for arithmetic between columns\n",
        "salary_dif = clean_df['Mid-Career 90th Percentile Salary'] - clean_df['Mid-Career 10th Percentile Salary']\n",
        "safest_degree = clean_df['Undergraduate Major'].loc[salary_dif.idxmin()]\n",
        "print(safest_degree)"
      ],
      "execution_count": 43,
      "outputs": [
        {
          "output_type": "stream",
          "name": "stdout",
          "text": [
            "Nursing\n"
          ]
        }
      ]
    },
    {
      "cell_type": "code",
      "metadata": {
        "id": "aEc0VZz47uPn"
      },
      "source": [
        "# Add a new column to the dataframe\n",
        "spread = clean_df['Mid-Career 90th Percentile Salary'] - clean_df['Mid-Career 10th Percentile Salary']\n",
        "clean_df.insert(1, \"Spread\", spread)\n"
      ],
      "execution_count": 44,
      "outputs": []
    },
    {
      "cell_type": "code",
      "metadata": {
        "colab": {
          "base_uri": "https://localhost:8080/",
          "height": 203
        },
        "id": "7BUopWJN8l-3",
        "outputId": "90b964c6-f26f-491e-a0b3-858005cd9439"
      },
      "source": [
        "# Sort the dataframe using .sort_values()\n",
        "low_risk_df = clean_df.sort_values(by=\"Spread\", ascending=True)\n",
        "low_risk_df[[\"Undergraduate Major\", \"Spread\"]].head()"
      ],
      "execution_count": 49,
      "outputs": [
        {
          "output_type": "execute_result",
          "data": {
            "text/html": [
              "<div>\n",
              "<style scoped>\n",
              "    .dataframe tbody tr th:only-of-type {\n",
              "        vertical-align: middle;\n",
              "    }\n",
              "\n",
              "    .dataframe tbody tr th {\n",
              "        vertical-align: top;\n",
              "    }\n",
              "\n",
              "    .dataframe thead th {\n",
              "        text-align: right;\n",
              "    }\n",
              "</style>\n",
              "<table border=\"1\" class=\"dataframe\">\n",
              "  <thead>\n",
              "    <tr style=\"text-align: right;\">\n",
              "      <th></th>\n",
              "      <th>Undergraduate Major</th>\n",
              "      <th>Spread</th>\n",
              "    </tr>\n",
              "  </thead>\n",
              "  <tbody>\n",
              "    <tr>\n",
              "      <th>40</th>\n",
              "      <td>Nursing</td>\n",
              "      <td>50700.0</td>\n",
              "    </tr>\n",
              "    <tr>\n",
              "      <th>43</th>\n",
              "      <td>Physician Assistant</td>\n",
              "      <td>57600.0</td>\n",
              "    </tr>\n",
              "    <tr>\n",
              "      <th>41</th>\n",
              "      <td>Nutrition</td>\n",
              "      <td>65300.0</td>\n",
              "    </tr>\n",
              "    <tr>\n",
              "      <th>49</th>\n",
              "      <td>Spanish</td>\n",
              "      <td>65400.0</td>\n",
              "    </tr>\n",
              "    <tr>\n",
              "      <th>27</th>\n",
              "      <td>Health Care Administration</td>\n",
              "      <td>66400.0</td>\n",
              "    </tr>\n",
              "  </tbody>\n",
              "</table>\n",
              "</div>"
            ],
            "text/plain": [
              "           Undergraduate Major   Spread\n",
              "40                     Nursing  50700.0\n",
              "43         Physician Assistant  57600.0\n",
              "41                   Nutrition  65300.0\n",
              "49                     Spanish  65400.0\n",
              "27  Health Care Administration  66400.0"
            ]
          },
          "metadata": {},
          "execution_count": 49
        }
      ]
    },
    {
      "cell_type": "code",
      "metadata": {
        "colab": {
          "base_uri": "https://localhost:8080/",
          "height": 203
        },
        "id": "2CI9cmzY9VF3",
        "outputId": "d0236790-a5a2-4b74-a258-4ec4ac25c759"
      },
      "source": [
        "# Find the degree with the highest potential using .sort_values()\n",
        "highest_potential = clean_df.sort_values(by=\"Mid-Career 90th Percentile Salary\", ascending=False)\n",
        "highest_potential[['Undergraduate Major', 'Mid-Career 90th Percentile Salary']].head()"
      ],
      "execution_count": 51,
      "outputs": [
        {
          "output_type": "execute_result",
          "data": {
            "text/html": [
              "<div>\n",
              "<style scoped>\n",
              "    .dataframe tbody tr th:only-of-type {\n",
              "        vertical-align: middle;\n",
              "    }\n",
              "\n",
              "    .dataframe tbody tr th {\n",
              "        vertical-align: top;\n",
              "    }\n",
              "\n",
              "    .dataframe thead th {\n",
              "        text-align: right;\n",
              "    }\n",
              "</style>\n",
              "<table border=\"1\" class=\"dataframe\">\n",
              "  <thead>\n",
              "    <tr style=\"text-align: right;\">\n",
              "      <th></th>\n",
              "      <th>Undergraduate Major</th>\n",
              "      <th>Mid-Career 90th Percentile Salary</th>\n",
              "    </tr>\n",
              "  </thead>\n",
              "  <tbody>\n",
              "    <tr>\n",
              "      <th>17</th>\n",
              "      <td>Economics</td>\n",
              "      <td>210000.0</td>\n",
              "    </tr>\n",
              "    <tr>\n",
              "      <th>22</th>\n",
              "      <td>Finance</td>\n",
              "      <td>195000.0</td>\n",
              "    </tr>\n",
              "    <tr>\n",
              "      <th>8</th>\n",
              "      <td>Chemical Engineering</td>\n",
              "      <td>194000.0</td>\n",
              "    </tr>\n",
              "    <tr>\n",
              "      <th>37</th>\n",
              "      <td>Math</td>\n",
              "      <td>183000.0</td>\n",
              "    </tr>\n",
              "    <tr>\n",
              "      <th>44</th>\n",
              "      <td>Physics</td>\n",
              "      <td>178000.0</td>\n",
              "    </tr>\n",
              "  </tbody>\n",
              "</table>\n",
              "</div>"
            ],
            "text/plain": [
              "     Undergraduate Major  Mid-Career 90th Percentile Salary\n",
              "17             Economics                           210000.0\n",
              "22               Finance                           195000.0\n",
              "8   Chemical Engineering                           194000.0\n",
              "37                  Math                           183000.0\n",
              "44               Physics                           178000.0"
            ]
          },
          "metadata": {},
          "execution_count": 51
        }
      ]
    },
    {
      "cell_type": "code",
      "metadata": {
        "colab": {
          "base_uri": "https://localhost:8080/",
          "height": 203
        },
        "id": "A_NWDHS9-mZq",
        "outputId": "4a652dae-df8f-474b-8727-82eecb71f966"
      },
      "source": [
        "# Majors with the greatest spread in salary\n",
        "greatest_spread = clean_df.sort_values(by=\"Spread\", ascending=False)\n",
        "greatest_spread[['Undergraduate Major', \"Spread\"]].head()"
      ],
      "execution_count": 52,
      "outputs": [
        {
          "output_type": "execute_result",
          "data": {
            "text/html": [
              "<div>\n",
              "<style scoped>\n",
              "    .dataframe tbody tr th:only-of-type {\n",
              "        vertical-align: middle;\n",
              "    }\n",
              "\n",
              "    .dataframe tbody tr th {\n",
              "        vertical-align: top;\n",
              "    }\n",
              "\n",
              "    .dataframe thead th {\n",
              "        text-align: right;\n",
              "    }\n",
              "</style>\n",
              "<table border=\"1\" class=\"dataframe\">\n",
              "  <thead>\n",
              "    <tr style=\"text-align: right;\">\n",
              "      <th></th>\n",
              "      <th>Undergraduate Major</th>\n",
              "      <th>Spread</th>\n",
              "    </tr>\n",
              "  </thead>\n",
              "  <tbody>\n",
              "    <tr>\n",
              "      <th>17</th>\n",
              "      <td>Economics</td>\n",
              "      <td>159400.0</td>\n",
              "    </tr>\n",
              "    <tr>\n",
              "      <th>22</th>\n",
              "      <td>Finance</td>\n",
              "      <td>147800.0</td>\n",
              "    </tr>\n",
              "    <tr>\n",
              "      <th>37</th>\n",
              "      <td>Math</td>\n",
              "      <td>137800.0</td>\n",
              "    </tr>\n",
              "    <tr>\n",
              "      <th>36</th>\n",
              "      <td>Marketing</td>\n",
              "      <td>132900.0</td>\n",
              "    </tr>\n",
              "    <tr>\n",
              "      <th>42</th>\n",
              "      <td>Philosophy</td>\n",
              "      <td>132500.0</td>\n",
              "    </tr>\n",
              "  </tbody>\n",
              "</table>\n",
              "</div>"
            ],
            "text/plain": [
              "   Undergraduate Major    Spread\n",
              "17           Economics  159400.0\n",
              "22             Finance  147800.0\n",
              "37                Math  137800.0\n",
              "36           Marketing  132900.0\n",
              "42          Philosophy  132500.0"
            ]
          },
          "metadata": {},
          "execution_count": 52
        }
      ]
    },
    {
      "cell_type": "code",
      "metadata": {
        "colab": {
          "base_uri": "https://localhost:8080/",
          "height": 189
        },
        "id": "aNQmhmNB_FU8",
        "outputId": "8dab9184-32e9-4054-890f-ba524e6f88c0"
      },
      "source": [
        "# Group the rows together based on particular column using .groupby()\n",
        "clean_df.groupby(by=\"Group\").count()"
      ],
      "execution_count": 55,
      "outputs": [
        {
          "output_type": "execute_result",
          "data": {
            "text/html": [
              "<div>\n",
              "<style scoped>\n",
              "    .dataframe tbody tr th:only-of-type {\n",
              "        vertical-align: middle;\n",
              "    }\n",
              "\n",
              "    .dataframe tbody tr th {\n",
              "        vertical-align: top;\n",
              "    }\n",
              "\n",
              "    .dataframe thead th {\n",
              "        text-align: right;\n",
              "    }\n",
              "</style>\n",
              "<table border=\"1\" class=\"dataframe\">\n",
              "  <thead>\n",
              "    <tr style=\"text-align: right;\">\n",
              "      <th></th>\n",
              "      <th>Undergraduate Major</th>\n",
              "      <th>Spread</th>\n",
              "      <th>Starting Median Salary</th>\n",
              "      <th>Mid-Career Median Salary</th>\n",
              "      <th>Mid-Career 10th Percentile Salary</th>\n",
              "      <th>Mid-Career 90th Percentile Salary</th>\n",
              "    </tr>\n",
              "    <tr>\n",
              "      <th>Group</th>\n",
              "      <th></th>\n",
              "      <th></th>\n",
              "      <th></th>\n",
              "      <th></th>\n",
              "      <th></th>\n",
              "      <th></th>\n",
              "    </tr>\n",
              "  </thead>\n",
              "  <tbody>\n",
              "    <tr>\n",
              "      <th>Business</th>\n",
              "      <td>12</td>\n",
              "      <td>12</td>\n",
              "      <td>12</td>\n",
              "      <td>12</td>\n",
              "      <td>12</td>\n",
              "      <td>12</td>\n",
              "    </tr>\n",
              "    <tr>\n",
              "      <th>HASS</th>\n",
              "      <td>22</td>\n",
              "      <td>22</td>\n",
              "      <td>22</td>\n",
              "      <td>22</td>\n",
              "      <td>22</td>\n",
              "      <td>22</td>\n",
              "    </tr>\n",
              "    <tr>\n",
              "      <th>STEM</th>\n",
              "      <td>16</td>\n",
              "      <td>16</td>\n",
              "      <td>16</td>\n",
              "      <td>16</td>\n",
              "      <td>16</td>\n",
              "      <td>16</td>\n",
              "    </tr>\n",
              "  </tbody>\n",
              "</table>\n",
              "</div>"
            ],
            "text/plain": [
              "          Undergraduate Major  ...  Mid-Career 90th Percentile Salary\n",
              "Group                          ...                                   \n",
              "Business                   12  ...                                 12\n",
              "HASS                       22  ...                                 22\n",
              "STEM                       16  ...                                 16\n",
              "\n",
              "[3 rows x 6 columns]"
            ]
          },
          "metadata": {},
          "execution_count": 55
        }
      ]
    },
    {
      "cell_type": "code",
      "metadata": {
        "colab": {
          "base_uri": "https://localhost:8080/",
          "height": 172
        },
        "id": "AE9LXhxSAPCU",
        "outputId": "7f84ea66-0379-4012-ebeb-e45e7e9ec675"
      },
      "source": [
        "# Find the average salary of each group: Business, HASS, STEM\n",
        "clean_df.groupby(by=\"Group\").mean()"
      ],
      "execution_count": 57,
      "outputs": [
        {
          "output_type": "execute_result",
          "data": {
            "text/html": [
              "<div>\n",
              "<style scoped>\n",
              "    .dataframe tbody tr th:only-of-type {\n",
              "        vertical-align: middle;\n",
              "    }\n",
              "\n",
              "    .dataframe tbody tr th {\n",
              "        vertical-align: top;\n",
              "    }\n",
              "\n",
              "    .dataframe thead th {\n",
              "        text-align: right;\n",
              "    }\n",
              "</style>\n",
              "<table border=\"1\" class=\"dataframe\">\n",
              "  <thead>\n",
              "    <tr style=\"text-align: right;\">\n",
              "      <th></th>\n",
              "      <th>Spread</th>\n",
              "      <th>Starting Median Salary</th>\n",
              "      <th>Mid-Career Median Salary</th>\n",
              "      <th>Mid-Career 10th Percentile Salary</th>\n",
              "      <th>Mid-Career 90th Percentile Salary</th>\n",
              "    </tr>\n",
              "    <tr>\n",
              "      <th>Group</th>\n",
              "      <th></th>\n",
              "      <th></th>\n",
              "      <th></th>\n",
              "      <th></th>\n",
              "      <th></th>\n",
              "    </tr>\n",
              "  </thead>\n",
              "  <tbody>\n",
              "    <tr>\n",
              "      <th>Business</th>\n",
              "      <td>103958.333333</td>\n",
              "      <td>44633.333333</td>\n",
              "      <td>75083.333333</td>\n",
              "      <td>43566.666667</td>\n",
              "      <td>147525.000000</td>\n",
              "    </tr>\n",
              "    <tr>\n",
              "      <th>HASS</th>\n",
              "      <td>95218.181818</td>\n",
              "      <td>37186.363636</td>\n",
              "      <td>62968.181818</td>\n",
              "      <td>34145.454545</td>\n",
              "      <td>129363.636364</td>\n",
              "    </tr>\n",
              "    <tr>\n",
              "      <th>STEM</th>\n",
              "      <td>101600.000000</td>\n",
              "      <td>53862.500000</td>\n",
              "      <td>90812.500000</td>\n",
              "      <td>56025.000000</td>\n",
              "      <td>157625.000000</td>\n",
              "    </tr>\n",
              "  </tbody>\n",
              "</table>\n",
              "</div>"
            ],
            "text/plain": [
              "                 Spread  ...  Mid-Career 90th Percentile Salary\n",
              "Group                    ...                                   \n",
              "Business  103958.333333  ...                      147525.000000\n",
              "HASS       95218.181818  ...                      129363.636364\n",
              "STEM      101600.000000  ...                      157625.000000\n",
              "\n",
              "[3 rows x 5 columns]"
            ]
          },
          "metadata": {},
          "execution_count": 57
        }
      ]
    },
    {
      "cell_type": "code",
      "metadata": {
        "id": "2vruAXh3AlPb"
      },
      "source": [
        "# Tell pandas to print numbers upto 2 decimal places\n",
        "pd.options.display.float_format = '{:,.2f}'.format "
      ],
      "execution_count": 58,
      "outputs": []
    },
    {
      "cell_type": "code",
      "metadata": {
        "colab": {
          "base_uri": "https://localhost:8080/",
          "height": 172
        },
        "id": "Xc1bKYRdBGF2",
        "outputId": "9df1aeed-e7ba-400f-dd70-f0f4e9f53324"
      },
      "source": [
        "clean_df.groupby(\"Group\").mean()"
      ],
      "execution_count": 59,
      "outputs": [
        {
          "output_type": "execute_result",
          "data": {
            "text/html": [
              "<div>\n",
              "<style scoped>\n",
              "    .dataframe tbody tr th:only-of-type {\n",
              "        vertical-align: middle;\n",
              "    }\n",
              "\n",
              "    .dataframe tbody tr th {\n",
              "        vertical-align: top;\n",
              "    }\n",
              "\n",
              "    .dataframe thead th {\n",
              "        text-align: right;\n",
              "    }\n",
              "</style>\n",
              "<table border=\"1\" class=\"dataframe\">\n",
              "  <thead>\n",
              "    <tr style=\"text-align: right;\">\n",
              "      <th></th>\n",
              "      <th>Spread</th>\n",
              "      <th>Starting Median Salary</th>\n",
              "      <th>Mid-Career Median Salary</th>\n",
              "      <th>Mid-Career 10th Percentile Salary</th>\n",
              "      <th>Mid-Career 90th Percentile Salary</th>\n",
              "    </tr>\n",
              "    <tr>\n",
              "      <th>Group</th>\n",
              "      <th></th>\n",
              "      <th></th>\n",
              "      <th></th>\n",
              "      <th></th>\n",
              "      <th></th>\n",
              "    </tr>\n",
              "  </thead>\n",
              "  <tbody>\n",
              "    <tr>\n",
              "      <th>Business</th>\n",
              "      <td>103,958.33</td>\n",
              "      <td>44,633.33</td>\n",
              "      <td>75,083.33</td>\n",
              "      <td>43,566.67</td>\n",
              "      <td>147,525.00</td>\n",
              "    </tr>\n",
              "    <tr>\n",
              "      <th>HASS</th>\n",
              "      <td>95,218.18</td>\n",
              "      <td>37,186.36</td>\n",
              "      <td>62,968.18</td>\n",
              "      <td>34,145.45</td>\n",
              "      <td>129,363.64</td>\n",
              "    </tr>\n",
              "    <tr>\n",
              "      <th>STEM</th>\n",
              "      <td>101,600.00</td>\n",
              "      <td>53,862.50</td>\n",
              "      <td>90,812.50</td>\n",
              "      <td>56,025.00</td>\n",
              "      <td>157,625.00</td>\n",
              "    </tr>\n",
              "  </tbody>\n",
              "</table>\n",
              "</div>"
            ],
            "text/plain": [
              "             Spread  ...  Mid-Career 90th Percentile Salary\n",
              "Group                ...                                   \n",
              "Business 103,958.33  ...                         147,525.00\n",
              "HASS      95,218.18  ...                         129,363.64\n",
              "STEM     101,600.00  ...                         157,625.00\n",
              "\n",
              "[3 rows x 5 columns]"
            ]
          },
          "metadata": {},
          "execution_count": 59
        }
      ]
    },
    {
      "cell_type": "code",
      "metadata": {
        "id": "BDhJXPzaBQLu"
      },
      "source": [
        ""
      ],
      "execution_count": null,
      "outputs": []
    }
  ]
}